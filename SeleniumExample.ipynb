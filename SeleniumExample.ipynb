{
 "cells": [
  {
   "cell_type": "markdown",
   "metadata": {},
   "source": [
    "This follows the tutorial at:\n",
    "https://dzone.com/articles/make-python-surf-the-web-for-you-and-send-best-fli"
   ]
  },
  {
   "cell_type": "code",
   "execution_count": 1,
   "metadata": {},
   "outputs": [],
   "source": [
    "from selenium import webdriver\n",
    "from selenium.webdriver.common.by import By\n",
    "from selenium.webdriver.common.keys import Keys\n",
    "\n",
    "import pandas as pd\n",
    "import time\n",
    "import datetime\n",
    "\n",
    "import smtplib\n",
    "from email.mime.multipart import MIMEMultipart"
   ]
  },
  {
   "cell_type": "markdown",
   "metadata": {},
   "source": [
    "# Connect to the web browser"
   ]
  },
  {
   "cell_type": "code",
   "execution_count": 2,
   "metadata": {},
   "outputs": [],
   "source": [
    "browser = webdriver.Chrome(executable_path='/usr/local/bin/chromedriver')"
   ]
  },
  {
   "cell_type": "markdown",
   "metadata": {},
   "source": [
    "# Choose ticket"
   ]
  },
  {
   "cell_type": "code",
   "execution_count": 3,
   "metadata": {},
   "outputs": [],
   "source": [
    "#Setting ticket types paths\n",
    "return_ticket = \"//label[@id='flight-type-roundtrip-label-hp-flight']\"\n",
    "one_way_ticket = \"//label[@id='flight-type-one-way-label-hp-flight']\"\n",
    "multi_ticket = \"//label[@id='flight-type-multi-dest-label-hp-flight']\""
   ]
  },
  {
   "cell_type": "code",
   "execution_count": 4,
   "metadata": {},
   "outputs": [],
   "source": [
    "def ticket_chooser(ticket):\n",
    "    try:\n",
    "        ticket_type = browser.find_element_by_xpath(ticket)\n",
    "        ticket_type.click()\n",
    "    except Exception as e:\n",
    "        pass"
   ]
  },
  {
   "cell_type": "markdown",
   "metadata": {},
   "source": [
    "# Choose Departure and Arrival Countries"
   ]
  },
  {
   "cell_type": "code",
   "execution_count": 5,
   "metadata": {},
   "outputs": [],
   "source": [
    "def dep_country_chooser(dep_country):\n",
    "    fly_from = browser.find_element_by_xpath(\"//input[@id='flight-origin-hp-flight']\")\n",
    "    time.sleep(1)\n",
    "    fly_from.clear()\n",
    "    time.sleep(1.5)\n",
    "    fly_from.send_keys('  ' + dep_country)\n",
    "    time.sleep(1.5)\n",
    "    first_item = browser.find_element_by_xpath(\"//a[@id='aria-option-0']\")\n",
    "    time.sleep(1.5)\n",
    "    first_item.click()"
   ]
  },
  {
   "cell_type": "code",
   "execution_count": 6,
   "metadata": {},
   "outputs": [],
   "source": [
    "def arrival_country_chooser(arrival_country):\n",
    "    fly_to = browser.find_element_by_xpath(\"//input[@id='flight-destination-hp-flight']\")\n",
    "    time.sleep(1)\n",
    "    fly_to.clear()\n",
    "    time.sleep(1.5)\n",
    "    fly_to.send_keys('  ' + arrival_country)\n",
    "    time.sleep(1.5)\n",
    "    first_item = browser.find_element_by_xpath(\"//a[@id='aria-option-0']\")\n",
    "    time.sleep(1.5)\n",
    "    first_item.click()"
   ]
  },
  {
   "cell_type": "markdown",
   "metadata": {},
   "source": [
    "# Choosing the Departure and Return Dates"
   ]
  },
  {
   "cell_type": "code",
   "execution_count": 7,
   "metadata": {},
   "outputs": [],
   "source": [
    "def dep_date_chooser(month, day, year):\n",
    "    dep_date_button = browser.find_element_by_xpath(\"//input[@id='flight-departing-hp-flight']\")\n",
    "    dep_date_button.clear()\n",
    "    dep_date_button.send_keys(month + '/' + day + '/' + year)"
   ]
  },
  {
   "cell_type": "code",
   "execution_count": 8,
   "metadata": {},
   "outputs": [],
   "source": [
    "def return_date_chooser(month, day, year):\n",
    "    return_date_button = browser.find_element_by_xpath(\"//input[@id='flight-returning-hp-flight']\")\n",
    "    for i in range(11):\n",
    "        return_date_button.send_keys(Keys.BACKSPACE)\n",
    "    return_date_button.send_keys(month + '/' + day + '/' + year)"
   ]
  },
  {
   "cell_type": "markdown",
   "metadata": {},
   "source": [
    "# Getting the Results"
   ]
  },
  {
   "cell_type": "code",
   "execution_count": 9,
   "metadata": {},
   "outputs": [],
   "source": [
    "def search():\n",
    "    search = browser.find_element_by_xpath(\"//button[@class='btn-primary btn-action gcw-submit']\")\n",
    "    search.click()\n",
    "    time.sleep(15)\n",
    "    print('Results ready!')"
   ]
  },
  {
   "cell_type": "code",
   "execution_count": 15,
   "metadata": {},
   "outputs": [],
   "source": [
    "df = pd.DataFrame()\n",
    "def compile_data():\n",
    "    global df\n",
    "    global dep_times_list\n",
    "    global arr_times_list\n",
    "    global airlines_list\n",
    "    global price_list\n",
    "    global durations_list\n",
    "    global stops_list\n",
    "    global layovers_list\n",
    "    \n",
    "    #departure times\n",
    "    dep_times = browser.find_elements_by_xpath(\"//span[@data-test-id='departure-time']\")\n",
    "    dep_times_list = [value.text for value in dep_times]\n",
    "    \n",
    "    #arrival times\n",
    "    arr_times = browser.find_elements_by_xpath(\"//span[@data-test-id='arrival-time']\")\n",
    "    arr_times_list = [value.text for value in arr_times]\n",
    "    \n",
    "    #airline name\n",
    "    airlines = browser.find_elements_by_xpath(\"//span[@data-test-id='airline-name']\")\n",
    "    airlines_list = [value.text for value in airlines]\n",
    "    \n",
    "    #prices\n",
    "    prices = browser.find_elements_by_xpath(\"//span[@data-test-id='listing-price-dollars']\")\n",
    "    price_list = [value.text for value in prices]\n",
    "    \n",
    "    #durations\n",
    "    durations = browser.find_elements_by_xpath(\"//span[@data-test-id='duration']\")\n",
    "    durations_list = [value.text for value in durations]\n",
    "    \n",
    "    #stops\n",
    "    stops = browser.find_elements_by_xpath(\"//span[@class='number-stops']\")\n",
    "    stops_list = [value.text for value in stops]\n",
    "    \n",
    "    #layovers\n",
    "    layovers = browser.find_elements_by_xpath(\"//span[@data-test-id='layover-airport-stops']\")\n",
    "    layovers_list = [value.text for value in layovers]\n",
    "    \n",
    "    now = datetime.datetime.now()\n",
    "    current_date = (str(now.year) + '-' + str(now.month) + '-' + str(now.day))\n",
    "    current_time = (str(now.hour) + ':' + str(now.minute))\n",
    "    current_price = 'price' + '(' + current_date + '---' + current_time + ')'\n",
    "    for i in range(len(dep_times_list)):\n",
    "        try:\n",
    "            df.loc[i, 'departure_time'] = dep_times_list[i]\n",
    "        except Exception as e:\n",
    "            pass\n",
    "        try:\n",
    "            df.loc[i, 'arrival_time'] = arr_times_list[i]\n",
    "        except Exception as e:\n",
    "            pass\n",
    "        try:\n",
    "            df.loc[i, 'airline'] = airlines_list[i]\n",
    "        except Exception as e:\n",
    "            pass\n",
    "        try:\n",
    "            df.loc[i, 'duration'] = durations_list[i]\n",
    "        except Exception as e:\n",
    "            pass\n",
    "        try:\n",
    "            df.loc[i, 'stops'] = stops_list[i]\n",
    "        except Exception as e:\n",
    "            pass\n",
    "        try:\n",
    "            df.loc[i, 'layovers'] = layovers_list[i]\n",
    "        except Exception as e:\n",
    "            pass\n",
    "        try:\n",
    "            df.loc[i, str(current_price)] = price_list[i]\n",
    "        except Exception as e:\n",
    "            pass\n",
    "    print('Excel Sheet Created!')"
   ]
  },
  {
   "cell_type": "markdown",
   "metadata": {},
   "source": [
    "# Setting up our email functions"
   ]
  },
  {
   "cell_type": "code",
   "execution_count": 11,
   "metadata": {},
   "outputs": [],
   "source": [
    "#email credentials\n",
    "username = 'myemail@hotmail.com'\n",
    "password = 'XXXXXXXXXXX'"
   ]
  },
  {
   "cell_type": "code",
   "execution_count": 12,
   "metadata": {},
   "outputs": [],
   "source": [
    "def connect_mail(username, password):\n",
    "    global server\n",
    "    server = smtplib.SMTP('smtp.outlook.com', 587)\n",
    "    server.ehlo()\n",
    "    server.starttls()\n",
    "    server.login(username, password)"
   ]
  },
  {
   "cell_type": "code",
   "execution_count": 13,
   "metadata": {},
   "outputs": [],
   "source": [
    "#Create message template for email\n",
    "def create_msg():\n",
    "    global msg\n",
    "    msg = '\\nCurrent Cheapest flight:\\n\\nDeparture time: {}\\nArrival time: {}\\nAirline: {}\\nFlight duration: {}\\nNo. of stops: {}\\nPrice: {}\\n'.format(cheapest_dep_time,\n",
    "                       cheapest_arrival_time,\n",
    "                       cheapest_airline,\n",
    "                       cheapest_duration,\n",
    "                       cheapest_stops,\n",
    "                       cheapest_price)"
   ]
  },
  {
   "cell_type": "code",
   "execution_count": 14,
   "metadata": {},
   "outputs": [],
   "source": [
    "def send_email(msg):\n",
    "    global message\n",
    "    message = MIMEMultipart()\n",
    "    message['Subject'] = 'Current Best flight'\n",
    "    message['From'] = 'myemail@hotmail.com'\n",
    "    message['to'] = 'myotheremail@hotmail.com'\n",
    "    server.sendmail('myemail@hotmail.com', 'myotheremail@hotmail.com', msg)"
   ]
  },
  {
   "cell_type": "markdown",
   "metadata": {},
   "source": [
    "# Let's Run Our Code!"
   ]
  },
  {
   "cell_type": "code",
   "execution_count": 16,
   "metadata": {},
   "outputs": [
    {
     "name": "stdout",
     "output_type": "stream",
     "text": [
      "Results ready!\n",
      "Excel Sheet Created!\n",
      "run 0 completed!\n"
     ]
    },
    {
     "data": {
      "text/html": [
       "<div>\n",
       "<style scoped>\n",
       "    .dataframe tbody tr th:only-of-type {\n",
       "        vertical-align: middle;\n",
       "    }\n",
       "\n",
       "    .dataframe tbody tr th {\n",
       "        vertical-align: top;\n",
       "    }\n",
       "\n",
       "    .dataframe thead th {\n",
       "        text-align: right;\n",
       "    }\n",
       "</style>\n",
       "<table border=\"1\" class=\"dataframe\">\n",
       "  <thead>\n",
       "    <tr style=\"text-align: right;\">\n",
       "      <th></th>\n",
       "      <th>departure_time</th>\n",
       "      <th>arrival_time</th>\n",
       "      <th>airline</th>\n",
       "      <th>duration</th>\n",
       "      <th>stops</th>\n",
       "      <th>layovers</th>\n",
       "      <th>price(2019-10-1---10:26)</th>\n",
       "    </tr>\n",
       "  </thead>\n",
       "  <tbody>\n",
       "    <tr>\n",
       "      <td>0</td>\n",
       "      <td>1:40am</td>\n",
       "      <td>12:25pm</td>\n",
       "      <td>China Airlines</td>\n",
       "      <td>19h 45m</td>\n",
       "      <td>(1 stop)</td>\n",
       "      <td>2h 30m in TPE\\nLayover 2h 30m in TPE</td>\n",
       "      <td>$1,034</td>\n",
       "    </tr>\n",
       "    <tr>\n",
       "      <td>1</td>\n",
       "      <td>1:40am</td>\n",
       "      <td>7:10pm</td>\n",
       "      <td>China Airlines</td>\n",
       "      <td>26h 30m</td>\n",
       "      <td>(1 stop)</td>\n",
       "      <td>9h 5m in TPE\\nLayover 9h 5m in TPE</td>\n",
       "      <td>$1,034</td>\n",
       "    </tr>\n",
       "    <tr>\n",
       "      <td>2</td>\n",
       "      <td>11:00pm</td>\n",
       "      <td>1:40pm</td>\n",
       "      <td>Philippine Airlines</td>\n",
       "      <td>23h 40m</td>\n",
       "      <td>(1 stop)</td>\n",
       "      <td>5h 55m in MNL\\nLayover 5h 55m in MNL</td>\n",
       "      <td>$1,050</td>\n",
       "    </tr>\n",
       "    <tr>\n",
       "      <td>3</td>\n",
       "      <td>10:30pm</td>\n",
       "      <td>1:40pm</td>\n",
       "      <td>Philippine Airlines</td>\n",
       "      <td>24h 10m</td>\n",
       "      <td>(1 stop)</td>\n",
       "      <td>6h 25m in MNL\\nLayover 6h 25m in MNL</td>\n",
       "      <td>$1,050</td>\n",
       "    </tr>\n",
       "    <tr>\n",
       "      <td>4</td>\n",
       "      <td>11:00pm</td>\n",
       "      <td>6:50pm</td>\n",
       "      <td>Philippine Airlines</td>\n",
       "      <td>28h 50m</td>\n",
       "      <td>(1 stop)</td>\n",
       "      <td>11h 10m in MNL\\nLayover 11h 10m in MNL</td>\n",
       "      <td>$1,050</td>\n",
       "    </tr>\n",
       "    <tr>\n",
       "      <td>...</td>\n",
       "      <td>...</td>\n",
       "      <td>...</td>\n",
       "      <td>...</td>\n",
       "      <td>...</td>\n",
       "      <td>...</td>\n",
       "      <td>...</td>\n",
       "      <td>...</td>\n",
       "    </tr>\n",
       "    <tr>\n",
       "      <td>94</td>\n",
       "      <td>9:00pm</td>\n",
       "      <td>8:15am</td>\n",
       "      <td>Singapore Airlines</td>\n",
       "      <td>20h 15m</td>\n",
       "      <td>(1 stop)</td>\n",
       "      <td>8h 45m in LAX\\nLayover 8h 45m in LAX</td>\n",
       "      <td>NaN</td>\n",
       "    </tr>\n",
       "    <tr>\n",
       "      <td>95</td>\n",
       "      <td>9:00pm</td>\n",
       "      <td>8:15am</td>\n",
       "      <td>Multiple Airlines</td>\n",
       "      <td>20h 15m</td>\n",
       "      <td>(1 stop)</td>\n",
       "      <td>10h 40m in LAX\\nLayover 10h 40m in LAX</td>\n",
       "      <td>NaN</td>\n",
       "    </tr>\n",
       "    <tr>\n",
       "      <td>96</td>\n",
       "      <td>8:00pm</td>\n",
       "      <td>8:15am</td>\n",
       "      <td>Singapore Airlines</td>\n",
       "      <td>21h 15m</td>\n",
       "      <td>(1 stop)</td>\n",
       "      <td>NaN</td>\n",
       "      <td>NaN</td>\n",
       "    </tr>\n",
       "    <tr>\n",
       "      <td>97</td>\n",
       "      <td>2:00pm</td>\n",
       "      <td>8:15am</td>\n",
       "      <td>Singapore Airlines</td>\n",
       "      <td>27h 15m</td>\n",
       "      <td>(1 stop)</td>\n",
       "      <td>NaN</td>\n",
       "      <td>NaN</td>\n",
       "    </tr>\n",
       "    <tr>\n",
       "      <td>98</td>\n",
       "      <td>12:00pm</td>\n",
       "      <td>8:15am</td>\n",
       "      <td>Singapore Airlines</td>\n",
       "      <td>29h 15m</td>\n",
       "      <td>(1 stop)</td>\n",
       "      <td>NaN</td>\n",
       "      <td>NaN</td>\n",
       "    </tr>\n",
       "  </tbody>\n",
       "</table>\n",
       "<p>99 rows × 7 columns</p>\n",
       "</div>"
      ],
      "text/plain": [
       "   departure_time arrival_time              airline duration     stops  \\\n",
       "0          1:40am      12:25pm       China Airlines  19h 45m  (1 stop)   \n",
       "1          1:40am       7:10pm       China Airlines  26h 30m  (1 stop)   \n",
       "2         11:00pm       1:40pm  Philippine Airlines  23h 40m  (1 stop)   \n",
       "3         10:30pm       1:40pm  Philippine Airlines  24h 10m  (1 stop)   \n",
       "4         11:00pm       6:50pm  Philippine Airlines  28h 50m  (1 stop)   \n",
       "..            ...          ...                  ...      ...       ...   \n",
       "94         9:00pm       8:15am   Singapore Airlines  20h 15m  (1 stop)   \n",
       "95         9:00pm       8:15am    Multiple Airlines  20h 15m  (1 stop)   \n",
       "96         8:00pm       8:15am   Singapore Airlines  21h 15m  (1 stop)   \n",
       "97         2:00pm       8:15am   Singapore Airlines  27h 15m  (1 stop)   \n",
       "98        12:00pm       8:15am   Singapore Airlines  29h 15m  (1 stop)   \n",
       "\n",
       "                                  layovers price(2019-10-1---10:26)  \n",
       "0     2h 30m in TPE\\nLayover 2h 30m in TPE                   $1,034  \n",
       "1       9h 5m in TPE\\nLayover 9h 5m in TPE                   $1,034  \n",
       "2     5h 55m in MNL\\nLayover 5h 55m in MNL                   $1,050  \n",
       "3     6h 25m in MNL\\nLayover 6h 25m in MNL                   $1,050  \n",
       "4   11h 10m in MNL\\nLayover 11h 10m in MNL                   $1,050  \n",
       "..                                     ...                      ...  \n",
       "94    8h 45m in LAX\\nLayover 8h 45m in LAX                      NaN  \n",
       "95  10h 40m in LAX\\nLayover 10h 40m in LAX                      NaN  \n",
       "96                                     NaN                      NaN  \n",
       "97                                     NaN                      NaN  \n",
       "98                                     NaN                      NaN  \n",
       "\n",
       "[99 rows x 7 columns]"
      ]
     },
     "execution_count": 16,
     "metadata": {},
     "output_type": "execute_result"
    }
   ],
   "source": [
    "for i in range(1):    \n",
    "    link = 'https://www.expedia.com/'\n",
    "    browser.get(link)\n",
    "    time.sleep(5)\n",
    "    #choose flights only\n",
    "    flights_only = browser.find_element_by_xpath(\"//button[@id='tab-flight-tab-hp']\")\n",
    "    flights_only.click()\n",
    "    ticket_chooser(return_ticket)\n",
    "    dep_country_chooser('San Francisco')\n",
    "    arrival_country_chooser('Singapore')\n",
    "    dep_date_chooser('07', '25', '2020')\n",
    "    return_date_chooser('07', '31', '2020')\n",
    "    search()\n",
    "    compile_data()\n",
    "    #save values for email\n",
    "    current_values = df.iloc[0]\n",
    "    cheapest_dep_time = current_values[0]\n",
    "    cheapest_arrival_time = current_values[1]\n",
    "    cheapest_airline = current_values[2]\n",
    "    cheapest_duration = current_values[3]\n",
    "    cheapest_stops = current_values[4]\n",
    "    cheapest_price = current_values[-1]\n",
    "    print('run {} completed!'.format(i))\n",
    "#     create_msg()\n",
    "#     connect_mail(username,password)\n",
    "#     send_email(msg)\n",
    "#     print('Email sent!')\n",
    "#     df.to_excel('flights.xlsx')\n",
    "#     time.sleep(3600)\n",
    "\n",
    "df"
   ]
  },
  {
   "cell_type": "code",
   "execution_count": null,
   "metadata": {},
   "outputs": [],
   "source": []
  }
 ],
 "metadata": {
  "kernelspec": {
   "display_name": "Python 3",
   "language": "python",
   "name": "python3"
  },
  "language_info": {
   "codemirror_mode": {
    "name": "ipython",
    "version": 3
   },
   "file_extension": ".py",
   "mimetype": "text/x-python",
   "name": "python",
   "nbconvert_exporter": "python",
   "pygments_lexer": "ipython3",
   "version": "3.7.3"
  }
 },
 "nbformat": 4,
 "nbformat_minor": 2
}
